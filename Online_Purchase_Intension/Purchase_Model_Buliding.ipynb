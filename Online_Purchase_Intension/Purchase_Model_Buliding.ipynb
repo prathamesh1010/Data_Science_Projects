{
 "cells": [
  {
   "cell_type": "markdown",
   "id": "5f7d7cf1-8e55-4383-a73c-8115d1c7bcd7",
   "metadata": {},
   "source": [
    "# Model Building"
   ]
  },
  {
   "cell_type": "code",
   "execution_count": 96,
   "id": "e172d900-55ed-4a02-8c62-22474934e97b",
   "metadata": {},
   "outputs": [],
   "source": [
    "import pandas as pd\n",
    "import numpy as np\n",
    "import matplotlib.pyplot as plt\n",
    "import seaborn as sns\n",
    "%matplotlib inline\n",
    "from sklearn.metrics import confusion_matrix\n",
    "from sklearn.metrics import accuracy_score"
   ]
  },
  {
   "cell_type": "code",
   "execution_count": 97,
   "id": "cc276b33-cd63-4c97-a0b1-ece1a73ba805",
   "metadata": {},
   "outputs": [],
   "source": [
    "data = pd.read_excel(\"Purchase.xlsx\")"
   ]
  },
  {
   "cell_type": "code",
   "execution_count": 98,
   "id": "9e1d655a-c49c-457d-96c3-b9d02a65ca85",
   "metadata": {},
   "outputs": [
    {
     "name": "stdout",
     "output_type": "stream",
     "text": [
      "<class 'pandas.core.frame.DataFrame'>\n",
      "RangeIndex: 12330 entries, 0 to 12329\n",
      "Data columns (total 18 columns):\n",
      " #   Column                   Non-Null Count  Dtype  \n",
      "---  ------                   --------------  -----  \n",
      " 0   Administrative           12330 non-null  int64  \n",
      " 1   Administrative_Duration  12330 non-null  float64\n",
      " 2   Informational            12330 non-null  int64  \n",
      " 3   Informational_Duration   12330 non-null  float64\n",
      " 4   ProductRelated           12330 non-null  int64  \n",
      " 5   ProductRelated_Duration  12330 non-null  float64\n",
      " 6   BounceRates              12330 non-null  float64\n",
      " 7   ExitRates                12330 non-null  float64\n",
      " 8   PageValues               12330 non-null  float64\n",
      " 9   SpecialDay               12330 non-null  float64\n",
      " 10  Month                    12330 non-null  object \n",
      " 11  OperatingSystems         12330 non-null  int64  \n",
      " 12  Browser                  12330 non-null  int64  \n",
      " 13  Region                   12330 non-null  int64  \n",
      " 14  TrafficType              12330 non-null  int64  \n",
      " 15  VisitorType              12330 non-null  object \n",
      " 16  Weekend                  12330 non-null  bool   \n",
      " 17  Target                   12330 non-null  bool   \n",
      "dtypes: bool(2), float64(7), int64(7), object(2)\n",
      "memory usage: 1.5+ MB\n"
     ]
    }
   ],
   "source": [
    "data.info()"
   ]
  },
  {
   "cell_type": "code",
   "execution_count": 99,
   "id": "e898047d-ec49-4fa9-a21c-d035b8d3b0af",
   "metadata": {},
   "outputs": [],
   "source": [
    "X = pd.get_dummies(data[['PageValues']], drop_first=True)\n",
    "y = data['Target']"
   ]
  },
  {
   "cell_type": "code",
   "execution_count": 100,
   "id": "e7cb284c-a423-4dce-bdf7-ffc09e47829c",
   "metadata": {},
   "outputs": [
    {
     "data": {
      "text/html": [
       "<div>\n",
       "<style scoped>\n",
       "    .dataframe tbody tr th:only-of-type {\n",
       "        vertical-align: middle;\n",
       "    }\n",
       "\n",
       "    .dataframe tbody tr th {\n",
       "        vertical-align: top;\n",
       "    }\n",
       "\n",
       "    .dataframe thead th {\n",
       "        text-align: right;\n",
       "    }\n",
       "</style>\n",
       "<table border=\"1\" class=\"dataframe\">\n",
       "  <thead>\n",
       "    <tr style=\"text-align: right;\">\n",
       "      <th></th>\n",
       "      <th>PageValues</th>\n",
       "    </tr>\n",
       "  </thead>\n",
       "  <tbody>\n",
       "    <tr>\n",
       "      <th>0</th>\n",
       "      <td>0.000000</td>\n",
       "    </tr>\n",
       "    <tr>\n",
       "      <th>1</th>\n",
       "      <td>0.000000</td>\n",
       "    </tr>\n",
       "    <tr>\n",
       "      <th>2</th>\n",
       "      <td>0.000000</td>\n",
       "    </tr>\n",
       "    <tr>\n",
       "      <th>3</th>\n",
       "      <td>0.000000</td>\n",
       "    </tr>\n",
       "    <tr>\n",
       "      <th>4</th>\n",
       "      <td>0.000000</td>\n",
       "    </tr>\n",
       "    <tr>\n",
       "      <th>...</th>\n",
       "      <td>...</td>\n",
       "    </tr>\n",
       "    <tr>\n",
       "      <th>12325</th>\n",
       "      <td>12.241717</td>\n",
       "    </tr>\n",
       "    <tr>\n",
       "      <th>12326</th>\n",
       "      <td>0.000000</td>\n",
       "    </tr>\n",
       "    <tr>\n",
       "      <th>12327</th>\n",
       "      <td>0.000000</td>\n",
       "    </tr>\n",
       "    <tr>\n",
       "      <th>12328</th>\n",
       "      <td>0.000000</td>\n",
       "    </tr>\n",
       "    <tr>\n",
       "      <th>12329</th>\n",
       "      <td>0.000000</td>\n",
       "    </tr>\n",
       "  </tbody>\n",
       "</table>\n",
       "<p>12330 rows × 1 columns</p>\n",
       "</div>"
      ],
      "text/plain": [
       "       PageValues\n",
       "0        0.000000\n",
       "1        0.000000\n",
       "2        0.000000\n",
       "3        0.000000\n",
       "4        0.000000\n",
       "...           ...\n",
       "12325   12.241717\n",
       "12326    0.000000\n",
       "12327    0.000000\n",
       "12328    0.000000\n",
       "12329    0.000000\n",
       "\n",
       "[12330 rows x 1 columns]"
      ]
     },
     "execution_count": 100,
     "metadata": {},
     "output_type": "execute_result"
    }
   ],
   "source": [
    "X"
   ]
  },
  {
   "cell_type": "markdown",
   "id": "b0e9f1b4-b835-4ab1-bbae-ef72bbf9ff58",
   "metadata": {},
   "source": [
    "## Preparation Of Training Model"
   ]
  },
  {
   "cell_type": "code",
   "execution_count": 102,
   "id": "eb8f2343-6a25-4007-a8ca-163a860bb995",
   "metadata": {},
   "outputs": [],
   "source": [
    "y = data['Target']"
   ]
  },
  {
   "cell_type": "code",
   "execution_count": 103,
   "id": "ef8958a1-4e6e-4a2f-9c7c-19151a0b99f8",
   "metadata": {},
   "outputs": [],
   "source": [
    "from sklearn.preprocessing import StandardScaler\n",
    "\n",
    "sc = StandardScaler()\n",
    "X = sc.fit_transform(X)"
   ]
  },
  {
   "cell_type": "code",
   "execution_count": 104,
   "id": "4c28af01-acb5-4d66-8760-86d11785f5f2",
   "metadata": {},
   "outputs": [],
   "source": [
    "from sklearn.model_selection import train_test_split\n",
    "\n",
    "X_train, X_test, y_train, y_test = train_test_split(X, y, test_size=0.20, random_state=78)"
   ]
  },
  {
   "cell_type": "markdown",
   "id": "9cb6078d-98db-4a8f-972b-88ea3fa2590f",
   "metadata": {},
   "source": [
    "## Logistic Regression"
   ]
  },
  {
   "cell_type": "code",
   "execution_count": 106,
   "id": "95be238c-894e-4a49-8ffa-fb1b2db07efc",
   "metadata": {},
   "outputs": [],
   "source": [
    "#Logistic Rgression\n",
    "from sklearn.linear_model import LogisticRegression"
   ]
  },
  {
   "cell_type": "code",
   "execution_count": 107,
   "id": "3bcbee5e-6354-442c-bd99-cc3f2c82b200",
   "metadata": {},
   "outputs": [
    {
     "name": "stdout",
     "output_type": "stream",
     "text": [
      "Accuracy of Logistic Regression: 0.8682076236820763\n"
     ]
    }
   ],
   "source": [
    "lr = LogisticRegression()\n",
    "\n",
    "model = lr.fit(X_train,y_train)\n",
    "y_lrpred = model.predict(X_test)\n",
    "\n",
    "print('Accuracy of Logistic Regression:', accuracy_score(y_test, y_lrpred))"
   ]
  },
  {
   "cell_type": "markdown",
   "id": "f7c65df6-63e7-4c54-b41d-bee080c9ef25",
   "metadata": {},
   "source": [
    "## Decision Tree Classifier"
   ]
  },
  {
   "cell_type": "code",
   "execution_count": 109,
   "id": "de2f00c0-5548-4a59-a5ef-52d6ba18c90e",
   "metadata": {},
   "outputs": [],
   "source": [
    "#Decision Tree Classifier\n",
    "from sklearn.tree import DecisionTreeClassifier"
   ]
  },
  {
   "cell_type": "code",
   "execution_count": 110,
   "id": "288079d1-363e-423b-ae8d-105706e19869",
   "metadata": {},
   "outputs": [
    {
     "name": "stdout",
     "output_type": "stream",
     "text": [
      "Accuracy of Decision Tree Classifier: 0.8613138686131386\n"
     ]
    }
   ],
   "source": [
    "dtc = DecisionTreeClassifier()\n",
    "\n",
    "model = dtc.fit(X_train, y_train)\n",
    "y_dtcpred = model.predict(X_test)\n",
    "\n",
    "print('Accuracy of Decision Tree Classifier:', accuracy_score(y_test, y_dtcpred))"
   ]
  },
  {
   "cell_type": "markdown",
   "id": "46b9d85c-f69e-458c-a07a-5f0a3861dd09",
   "metadata": {},
   "source": [
    "## AdaBoost Classifier"
   ]
  },
  {
   "cell_type": "code",
   "execution_count": 112,
   "id": "90b8c566-f9e6-453d-8d86-1faea65087e6",
   "metadata": {},
   "outputs": [],
   "source": [
    "from sklearn.ensemble import AdaBoostClassifier, RandomForestClassifier"
   ]
  },
  {
   "cell_type": "code",
   "execution_count": 113,
   "id": "8448160e-816a-4b5b-8a10-3818dbc19d0a",
   "metadata": {},
   "outputs": [
    {
     "name": "stderr",
     "output_type": "stream",
     "text": [
      "C:\\Users\\prathamesh\\AppData\\Local\\anaconda3\\Lib\\site-packages\\sklearn\\ensemble\\_weight_boosting.py:519: FutureWarning: The SAMME.R algorithm (the default) is deprecated and will be removed in 1.6. Use the SAMME algorithm to circumvent this warning.\n",
      "  warnings.warn(\n"
     ]
    },
    {
     "name": "stdout",
     "output_type": "stream",
     "text": [
      "Accuracy of AdaBoost Classifier: 0.8698296836982968\n"
     ]
    }
   ],
   "source": [
    "#AdaBoost Classifier\n",
    "ada = AdaBoostClassifier()\n",
    "\n",
    "model_ada = ada.fit(X_train,y_train)\n",
    "y_pred_ada = model_ada.predict(X_test)\n",
    "\n",
    "print('Accuracy of AdaBoost Classifier:', accuracy_score(y_test, y_pred_ada))"
   ]
  },
  {
   "cell_type": "markdown",
   "id": "ba232e5a-8f00-4642-a24b-605b4a3df7dd",
   "metadata": {},
   "source": [
    "## Random Forest Classifier"
   ]
  },
  {
   "cell_type": "code",
   "execution_count": 115,
   "id": "14f1f2dd-9bf9-4821-8c5c-f9ac505f0442",
   "metadata": {},
   "outputs": [
    {
     "name": "stdout",
     "output_type": "stream",
     "text": [
      "Accuracy of Random Forest Classifier: 0.8613138686131386\n"
     ]
    }
   ],
   "source": [
    "#Random Forest Classifier\n",
    "rfc = RandomForestClassifier()\n",
    "\n",
    "model_rf = rfc.fit(X_train,y_train)\n",
    "y_pred_rfc = model_rf.predict(X_test)\n",
    "\n",
    "print('Accuracy of Random Forest Classifier:', accuracy_score(y_test, y_pred_rfc))"
   ]
  },
  {
   "cell_type": "markdown",
   "id": "f2e2e031-b7fa-487c-9a0e-1822c918aff4",
   "metadata": {},
   "source": [
    "## Support Vector Classifier"
   ]
  },
  {
   "cell_type": "code",
   "execution_count": 117,
   "id": "0a4066b4-8f78-49d9-baaf-b843ae33d0d6",
   "metadata": {},
   "outputs": [],
   "source": [
    "from sklearn.svm import SVC"
   ]
  },
  {
   "cell_type": "code",
   "execution_count": 118,
   "id": "7e3dc44f-0f66-453f-905c-3378e1c06684",
   "metadata": {},
   "outputs": [
    {
     "name": "stdout",
     "output_type": "stream",
     "text": [
      "Accuracy of SVM: 0.870235198702352\n"
     ]
    }
   ],
   "source": [
    "#Support Vector Classifier\n",
    "svc = SVC()\n",
    "\n",
    "model = svc.fit(X_train,y_train)\n",
    "y_svcpred = model.predict(X_test)\n",
    "\n",
    "print('Accuracy of SVM:', accuracy_score(y_test, y_svcpred))"
   ]
  },
  {
   "cell_type": "markdown",
   "id": "9607360d-22fb-4a7e-8a33-d9d80559fab1",
   "metadata": {},
   "source": [
    "## Comparison between the algorithms"
   ]
  },
  {
   "cell_type": "code",
   "execution_count": 120,
   "id": "7b9dba58-ae35-4a78-888b-b401f2881fb0",
   "metadata": {},
   "outputs": [],
   "source": [
    "scores = [['LogisticRegression',86.94],['Decision Tree',84.99],['AdaBoost',86.94],['RandomForest',87.87],['SVM',87.42]]\n",
    "comparison = pd.DataFrame(scores, columns = ['Algorithm', 'Accuracy'])"
   ]
  },
  {
   "cell_type": "code",
   "execution_count": 121,
   "id": "179d2324-d315-4a74-8bc0-eb9ad7da66b1",
   "metadata": {},
   "outputs": [
    {
     "name": "stderr",
     "output_type": "stream",
     "text": [
      "C:\\Users\\prathamesh\\AppData\\Local\\Temp\\ipykernel_26768\\2943161852.py:5: FutureWarning: \n",
      "\n",
      "Passing `palette` without assigning `hue` is deprecated and will be removed in v0.14.0. Assign the `x` variable to `hue` and set `legend=False` for the same effect.\n",
      "\n",
      "  sns.barplot(x='Algorithm', y='Accuracy', data=comparison, palette='viridis')\n"
     ]
    },
    {
     "data": {
      "image/png": "[encoded data removed]",
      "text/plain": [
       "<Figure size 1000x600 with 1 Axes>"
      ]
     },
     "metadata": {},
     "output_type": "display_data"
    }
   ],
   "source": [
    "comparison = {'Algorithm': ['Logistic Rgression', 'Decision Tree', 'Ada Boost','Random Forest', 'SVM'],\n",
    "              'Accuracy': [86.94, 85.11, 86.94, 87.71, 87.42]}\n",
    "\n",
    "plt.figure(figsize=(10, 6))\n",
    "sns.barplot(x='Algorithm', y='Accuracy', data=comparison, palette='viridis')\n",
    "\n",
    "plt.title('Algorithm Comparison', fontsize=16)\n",
    "plt.xlabel('Algorithm', fontsize=14)\n",
    "plt.ylabel('Accuracy', fontsize=14)\n",
    "plt.xticks(fontsize=12)\n",
    "plt.yticks(fontsize=12)\n",
    "plt.grid(axis='y', linestyle='--', alpha=0.5)\n",
    "plt.show()"
   ]
  },
  {
   "cell_type": "markdown",
   "id": "24843248-91b2-4bff-818b-86ff95af35dd",
   "metadata": {},
   "source": [
    "### The Random Forest Classifier achieved the highest accuracy of 87.71% and can be used for predicting the Target variable."
   ]
  }
 ],
 "metadata": {
  "kernelspec": {
   "display_name": "Python 3 (ipykernel)",
   "language": "python",
   "name": "python3"
  },
  "language_info": {
   "codemirror_mode": {
    "name": "ipython",
    "version": 3
   },
   "file_extension": ".py",
   "mimetype": "text/x-python",
   "name": "python",
   "nbconvert_exporter": "python",
   "pygments_lexer": "ipython3",
   "version": "3.12.4"
  }
 },
 "nbformat": 4,
 "nbformat_minor": 5
}
