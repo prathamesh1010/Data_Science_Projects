{
 "cells": [
  {
   "cell_type": "code",
   "execution_count": 1,
   "id": "369cc7a3-0c34-4ee8-a799-45766bb48c6c",
   "metadata": {},
   "outputs": [],
   "source": [
    "import numpy as np\n",
    "import os\n",
    "import zipfile\n",
    "from tensorflow import keras\n",
    "from tensorflow.keras import layers\n",
    "from tensorflow.keras.preprocessing.image import ImageDataGenerator\n",
    "from flask import Flask, request, render_template_string\n",
    "from werkzeug.utils import secure_filename\n",
    "from PIL import Image\n",
    "import io\n",
    "import nest_asyncio\n",
    "from IPython.display import display, HTML\n",
    "from sklearn.metrics import accuracy_score, precision_score, recall_score, f1_score"
   ]
  },
  {
   "cell_type": "code",
   "execution_count": 2,
   "id": "092b3684-1cd8-470d-9138-f9b762c5b55d",
   "metadata": {},
   "outputs": [],
   "source": [
    "# ================== DATASET SETUP ==================\n",
    "dataset_path = r'C:\\Projects\\Data_Science\\QR_Code_Fraud_Detection'  # Raw string for Windows path\n",
    "if not os.path.exists(dataset_path):\n",
    "    raise ValueError(f\"\"\"\n",
    "    Dataset directory not found at: {dataset_path}\n",
    "    Please ensure you have:\n",
    "    1. A 'dataset' folder in your working directory\n",
    "    2. Subfolders 'first_print' and 'second_print' containing respective images\n",
    "    \"\"\")"
   ]
  },
  {
   "cell_type": "code",
   "execution_count": 3,
   "id": "0f8894f9-efd5-4d87-9cde-6c0dbcfc4bd7",
   "metadata": {},
   "outputs": [
    {
     "name": "stdout",
     "output_type": "stream",
     "text": [
      "Found 160 images belonging to 2 classes.\n"
     ]
    }
   ],
   "source": [
    "# ================== MODEL TRAINING ==================\n",
    "train_datagen = ImageDataGenerator(rescale=1./255, validation_split=0.2)\n",
    "img_size = (128, 128)\n",
    "\n",
    "# Training generator (shuffled)\n",
    "train_generator = train_datagen.flow_from_directory(\n",
    "    dataset_path,\n",
    "    target_size=img_size,\n",
    "    batch_size=32,\n",
    "    class_mode='binary',\n",
    "    subset='training',\n",
    "    classes=['first_print', 'second_print'],\n",
    "    shuffle=True\n",
    ")"
   ]
  },
  {
   "cell_type": "code",
   "execution_count": 4,
   "id": "0395ee21-c851-458a-9f93-c13f35ec68fa",
   "metadata": {},
   "outputs": [
    {
     "name": "stdout",
     "output_type": "stream",
     "text": [
      "Found 40 images belonging to 2 classes.\n"
     ]
    }
   ],
   "source": [
    "# Validation generator (not shuffled)\n",
    "val_generator = train_datagen.flow_from_directory(\n",
    "    dataset_path,\n",
    "    target_size=img_size,\n",
    "    batch_size=32,\n",
    "    class_mode='binary',\n",
    "    subset='validation',\n",
    "    classes=['first_print', 'second_print'],\n",
    "    shuffle=False  # Critical for correct metric calculation\n",
    ")\n"
   ]
  },
  {
   "cell_type": "code",
   "execution_count": 5,
   "id": "bf7f900a-35bd-461c-bba5-c004bd104ae4",
   "metadata": {},
   "outputs": [
    {
     "name": "stderr",
     "output_type": "stream",
     "text": [
      "C:\\Users\\prathamesh\\AppData\\Local\\anaconda3\\Lib\\site-packages\\keras\\src\\layers\\convolutional\\base_conv.py:107: UserWarning: Do not pass an `input_shape`/`input_dim` argument to a layer. When using Sequential models, prefer using an `Input(shape)` object as the first layer in the model instead.\n",
      "  super().__init__(activity_regularizer=activity_regularizer, **kwargs)\n"
     ]
    }
   ],
   "source": [
    "# Build CNN model\n",
    "model = keras.Sequential([\n",
    "    layers.Conv2D(32, (3,3), activation='relu', input_shape=(128, 128, 3)),\n",
    "    layers.MaxPooling2D((2,2)),\n",
    "    layers.Conv2D(64, (3,3), activation='relu'),\n",
    "    layers.MaxPooling2D((2,2)),\n",
    "    layers.Conv2D(128, (3,3), activation='relu'),\n",
    "    layers.MaxPooling2D((2,2)),\n",
    "    layers.Flatten(),\n",
    "    layers.Dense(128, activation='relu'),\n",
    "    layers.Dense(1, activation='sigmoid')\n",
    "])\n",
    "\n",
    "model.compile(optimizer='adam',\n",
    "              loss='binary_crossentropy',\n",
    "              metrics=['accuracy'])"
   ]
  },
  {
   "cell_type": "code",
   "execution_count": 6,
   "id": "0d4d7ef6-f5a1-44a4-81e9-784f1ce618cc",
   "metadata": {},
   "outputs": [
    {
     "name": "stdout",
     "output_type": "stream",
     "text": [
      "\n",
      "Training model...\n"
     ]
    },
    {
     "name": "stderr",
     "output_type": "stream",
     "text": [
      "C:\\Users\\prathamesh\\AppData\\Local\\anaconda3\\Lib\\site-packages\\keras\\src\\trainers\\data_adapters\\py_dataset_adapter.py:121: UserWarning: Your `PyDataset` class should call `super().__init__(**kwargs)` in its constructor. `**kwargs` can include `workers`, `use_multiprocessing`, `max_queue_size`. Do not pass these arguments to `fit()`, as they will be ignored.\n",
      "  self._warn_if_super_not_called()\n"
     ]
    },
    {
     "name": "stdout",
     "output_type": "stream",
     "text": [
      "Epoch 1/10\n",
      "\u001b[1m5/5\u001b[0m \u001b[32m━━━━━━━━━━━━━━━━━━━━\u001b[0m\u001b[37m\u001b[0m \u001b[1m10s\u001b[0m 1s/step - accuracy: 0.5576 - loss: 1.4589 - val_accuracy: 0.5000 - val_loss: 0.7154\n",
      "Epoch 2/10\n",
      "\u001b[1m5/5\u001b[0m \u001b[32m━━━━━━━━━━━━━━━━━━━━\u001b[0m\u001b[37m\u001b[0m \u001b[1m5s\u001b[0m 1s/step - accuracy: 0.5933 - loss: 0.7090 - val_accuracy: 0.9250 - val_loss: 0.6558\n",
      "Epoch 3/10\n",
      "\u001b[1m5/5\u001b[0m \u001b[32m━━━━━━━━━━━━━━━━━━━━\u001b[0m\u001b[37m\u001b[0m \u001b[1m5s\u001b[0m 1s/step - accuracy: 0.8685 - loss: 0.6485 - val_accuracy: 0.5000 - val_loss: 0.6357\n",
      "Epoch 4/10\n",
      "\u001b[1m5/5\u001b[0m \u001b[32m━━━━━━━━━━━━━━━━━━━━\u001b[0m\u001b[37m\u001b[0m \u001b[1m5s\u001b[0m 1s/step - accuracy: 0.5580 - loss: 0.6307 - val_accuracy: 0.9250 - val_loss: 0.5475\n",
      "Epoch 5/10\n",
      "\u001b[1m5/5\u001b[0m \u001b[32m━━━━━━━━━━━━━━━━━━━━\u001b[0m\u001b[37m\u001b[0m \u001b[1m5s\u001b[0m 1s/step - accuracy: 0.9102 - loss: 0.5235 - val_accuracy: 0.8250 - val_loss: 0.4946\n",
      "Epoch 6/10\n",
      "\u001b[1m5/5\u001b[0m \u001b[32m━━━━━━━━━━━━━━━━━━━━\u001b[0m\u001b[37m\u001b[0m \u001b[1m5s\u001b[0m 1s/step - accuracy: 0.8351 - loss: 0.4211 - val_accuracy: 0.9000 - val_loss: 0.3756\n",
      "Epoch 7/10\n",
      "\u001b[1m5/5\u001b[0m \u001b[32m━━━━━━━━━━━━━━━━━━━━\u001b[0m\u001b[37m\u001b[0m \u001b[1m5s\u001b[0m 1s/step - accuracy: 0.8858 - loss: 0.3666 - val_accuracy: 0.9500 - val_loss: 0.2942\n",
      "Epoch 8/10\n",
      "\u001b[1m5/5\u001b[0m \u001b[32m━━━━━━━━━━━━━━━━━━━━\u001b[0m\u001b[37m\u001b[0m \u001b[1m5s\u001b[0m 1s/step - accuracy: 0.9434 - loss: 0.2743 - val_accuracy: 0.8500 - val_loss: 0.3923\n",
      "Epoch 9/10\n",
      "\u001b[1m5/5\u001b[0m \u001b[32m━━━━━━━━━━━━━━━━━━━━\u001b[0m\u001b[37m\u001b[0m \u001b[1m5s\u001b[0m 1s/step - accuracy: 0.9217 - loss: 0.1796 - val_accuracy: 0.9250 - val_loss: 0.1817\n",
      "Epoch 10/10\n",
      "\u001b[1m5/5\u001b[0m \u001b[32m━━━━━━━━━━━━━━━━━━━━\u001b[0m\u001b[37m\u001b[0m \u001b[1m5s\u001b[0m 1s/step - accuracy: 0.9516 - loss: 0.1429 - val_accuracy: 0.9250 - val_loss: 0.1505\n"
     ]
    }
   ],
   "source": [
    "# Train model\n",
    "print(\"\\nTraining model...\")\n",
    "history = model.fit(\n",
    "    train_generator,\n",
    "    validation_data=val_generator,\n",
    "    epochs=10\n",
    ")\n"
   ]
  },
  {
   "cell_type": "code",
   "execution_count": 7,
   "id": "2e2ddf55-36b3-4e3f-ac4f-9907d614ca99",
   "metadata": {},
   "outputs": [
    {
     "name": "stdout",
     "output_type": "stream",
     "text": [
      "\u001b[1m2/2\u001b[0m \u001b[32m━━━━━━━━━━━━━━━━━━━━\u001b[0m\u001b[37m\u001b[0m \u001b[1m1s\u001b[0m 202ms/step\n",
      "\n",
      "\n",
      "=== Validation Metrics ===\n",
      "Accuracy: 0.9250\n",
      "Precision: 0.9048\n",
      "Recall: 0.9500\n",
      "F1-Score: 0.9268\n",
      "\n"
     ]
    }
   ],
   "source": [
    "# ================== MODEL EVALUATION ==================\n",
    "# Generate predictions for validation set\n",
    "val_generator.reset()\n",
    "y_pred = model.predict(val_generator)\n",
    "y_pred_binary = (y_pred > 0.5).astype(int).flatten()\n",
    "y_true = val_generator.classes\n",
    "\n",
    "# Calculate metrics\n",
    "accuracy = accuracy_score(y_true, y_pred_binary)\n",
    "precision = precision_score(y_true, y_pred_binary)\n",
    "recall = recall_score(y_true, y_pred_binary)\n",
    "f1 = f1_score(y_true, y_pred_binary)\n",
    "\n",
    "print(\"\\n\\n=== Validation Metrics ===\")\n",
    "print(f\"Accuracy: {accuracy:.4f}\")\n",
    "print(f\"Precision: {precision:.4f}\")\n",
    "print(f\"Recall: {recall:.4f}\")\n",
    "print(f\"F1-Score: {f1:.4f}\\n\")"
   ]
  },
  {
   "cell_type": "code",
   "execution_count": null,
   "id": "fdab2797-a574-4562-945d-863462f8615a",
   "metadata": {},
   "outputs": [
    {
     "name": "stdout",
     "output_type": "stream",
     "text": [
      "\n",
      "Launching web interface...\n"
     ]
    },
    {
     "data": {
      "text/html": [
       "<a href=\"http://localhost:3000\" target=\"_blank\">Open QR Code Authenticator</a>"
      ],
      "text/plain": [
       "<IPython.core.display.HTML object>"
      ]
     },
     "metadata": {},
     "output_type": "display_data"
    },
    {
     "name": "stdout",
     "output_type": "stream",
     "text": [
      " * Serving Flask app '__main__'\n",
      " * Debug mode: off\n"
     ]
    },
    {
     "name": "stderr",
     "output_type": "stream",
     "text": [
      "WARNING: This is a development server. Do not use it in a production deployment. Use a production WSGI server instead.\n",
      " * Running on http://127.0.0.1:3000\n",
      "Press CTRL+C to quit\n"
     ]
    }
   ],
   "source": [
    "\n",
    "# ================== FLASK APPLICATION ==================\n",
    "app = Flask(__name__)\n",
    "app.config['UPLOAD_FOLDER'] = 'uploads'\n",
    "\n",
    "HTML_TEMPLATE = '''\n",
    "<!doctype html>\n",
    "<html>\n",
    "  <head><title>QR Code Authenticator</title></head>\n",
    "  <body>\n",
    "    <h1>Upload QR Code</h1>\n",
    "    <form method=\"post\" enctype=\"multipart/form-data\">\n",
    "      <input type=\"file\" name=\"file\" accept=\"image/*\">\n",
    "      <input type=\"submit\" value=\"Verify\">\n",
    "    </form>\n",
    "    {% if result %}\n",
    "    <h2>Result: {{ result }}</h2>\n",
    "    {% endif %}\n",
    "  </body>\n",
    "</html>\n",
    "'''\n",
    "\n",
    "@app.route('/', methods=['GET', 'POST'])\n",
    "def upload_file():\n",
    "    if request.method == 'POST':\n",
    "        if 'file' not in request.files:\n",
    "            return 'No file uploaded'\n",
    "        file = request.files['file']\n",
    "        if file.filename == '':\n",
    "            return 'No selected file'\n",
    "        \n",
    "        # Preprocess image\n",
    "        img = Image.open(file.stream).convert('RGB')\n",
    "        img = img.resize((128, 128))\n",
    "        img_array = np.array(img) / 255.0\n",
    "        img_array = np.expand_dims(img_array, axis=0)\n",
    "        \n",
    "        # Make prediction\n",
    "        prediction = model.predict(img_array)\n",
    "        result = \"Original\" if prediction[0][0] < 0.5 else \"Counterfeit\"\n",
    "        return render_template_string(HTML_TEMPLATE, result=result)\n",
    "    \n",
    "    return render_template_string(HTML_TEMPLATE)\n",
    "\n",
    "# Allow Flask to run in Jupyter\n",
    "nest_asyncio.apply()\n",
    "print(\"\\nLaunching web interface...\")\n",
    "display(HTML(f'<a href=\"http://localhost:3000\" target=\"_blank\">Open QR Code Authenticator</a>'))\n",
    "app.run(port=3000, threaded=True)"
   ]
  },
  {
   "cell_type": "code",
   "execution_count": null,
   "id": "4504e2ba-31ff-4b9c-93ab-c668fa29c8f2",
   "metadata": {},
   "outputs": [],
   "source": []
  }
 ],
 "metadata": {
  "kernelspec": {
   "display_name": "Python 3 (ipykernel)",
   "language": "python",
   "name": "python3"
  },
  "language_info": {
   "codemirror_mode": {
    "name": "ipython",
    "version": 3
   },
   "file_extension": ".py",
   "mimetype": "text/x-python",
   "name": "python",
   "nbconvert_exporter": "python",
   "pygments_lexer": "ipython3",
   "version": "3.12.4"
  }
 },
 "nbformat": 4,
 "nbformat_minor": 5
}
